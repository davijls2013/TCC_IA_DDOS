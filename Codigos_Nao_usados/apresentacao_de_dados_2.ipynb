{
 "cells": [
  {
   "cell_type": "code",
   "execution_count": 1,
   "id": "47fc2acc-75f2-495b-9c3f-4bdc56418480",
   "metadata": {
    "tags": []
   },
   "outputs": [],
   "source": [
    "import pandas as pd\n",
    "import matplotlib.pyplot as plt\n",
    "from itertools import combinations"
   ]
  },
  {
   "cell_type": "code",
   "execution_count": 2,
   "id": "9943582f-8dc4-4c0b-835f-e14768a40dd6",
   "metadata": {
    "tags": []
   },
   "outputs": [],
   "source": [
    "# Caminho para o arquivo CSV no seu SSD\n",
    "csv_file_path = 'DrDoS_UDP.csv'"
   ]
  },
  {
   "cell_type": "code",
   "execution_count": 3,
   "id": "8360aab8-4aea-4ced-a646-db0c62a2a444",
   "metadata": {
    "tags": []
   },
   "outputs": [],
   "source": [
    "# Definir a quantidade de linhas para pular durante a leitura (ajuste conforme necessário)\n",
    "skip_rows = 10000"
   ]
  },
  {
   "cell_type": "code",
   "execution_count": 4,
   "id": "01f90dd5-b726-4e42-9664-75add057773c",
   "metadata": {
    "tags": []
   },
   "outputs": [],
   "source": [
    "# Função para plotar o gráfico de dispersão entre duas colunas\n",
    "def plot_scatter(x_column, y_column, x_data, y_data):\n",
    "    plt.scatter(x_data, y_data)\n",
    "    plt.xlabel(x_column)\n",
    "    plt.ylabel(y_column)\n",
    "    plt.title(f'Dispersão entre {x_column} e {y_column}')\n",
    "    plt.show()"
   ]
  },
  {
   "cell_type": "code",
   "execution_count": 5,
   "id": "9b0fb9c8-e167-4a63-b78b-181a9c01a4a5",
   "metadata": {
    "tags": []
   },
   "outputs": [],
   "source": [
    "# Leitura do arquivo CSV em partes (chunks) para otimização de uso de memória\n",
    "chunk_size = 10\n",
    "data_frames = []"
   ]
  },
  {
   "cell_type": "code",
   "execution_count": 8,
   "id": "4e179529-b6fe-44d0-a037-d3affd889e5d",
   "metadata": {
    "scrolled": true,
    "tags": []
   },
   "outputs": [],
   "source": [
    "n = 1\n",
    "for chunk in pd.read_csv(csv_file_path, chunksize=chunk_size):\n",
    "    data_frames.append(chunk)"
   ]
  },
  {
   "cell_type": "code",
   "execution_count": null,
   "id": "ab22058b-e9e8-4d35-a475-2f1417ded5ef",
   "metadata": {
    "tags": []
   },
   "outputs": [],
   "source": [
    "# Concatenar os dataframes lidos em um único dataframe\n",
    "full_data_frame = pd.concat(data_frames, ignore_index=False)"
   ]
  },
  {
   "cell_type": "code",
   "execution_count": null,
   "id": "630bdb1f-b14b-4e4e-902a-aee6c014a373",
   "metadata": {
    "tags": []
   },
   "outputs": [],
   "source": [
    "# Obter todas as combinações possíveis de colunas em pares\n",
    "column_combinations = combinations(full_data_frame.columns, 2)"
   ]
  },
  {
   "cell_type": "code",
   "execution_count": null,
   "id": "32c79654-5e34-444a-afa6-534da3f13a17",
   "metadata": {
    "tags": []
   },
   "outputs": [],
   "source": [
    "pd.set_option('display.max_columns', None)\n",
    "\n",
    "print(full_data_frame.head)"
   ]
  },
  {
   "cell_type": "code",
   "execution_count": null,
   "id": "8e6e3515-91e0-4c42-a631-12b6d91cbbce",
   "metadata": {},
   "outputs": [],
   "source": []
  },
  {
   "cell_type": "code",
   "execution_count": null,
   "id": "df743495-696d-4f9f-a9df-4e297dab3de4",
   "metadata": {},
   "outputs": [],
   "source": []
  },
  {
   "cell_type": "code",
   "execution_count": null,
   "id": "cf5b7d51-3de8-4054-a70b-a6ed3c2f15d5",
   "metadata": {},
   "outputs": [],
   "source": []
  },
  {
   "cell_type": "code",
   "execution_count": null,
   "id": "bfed0953-d43c-4a90-a785-72d6bfa0ab1c",
   "metadata": {},
   "outputs": [],
   "source": []
  },
  {
   "cell_type": "code",
   "execution_count": null,
   "id": "09d42a29-b052-46a4-ad72-7d477445ef9d",
   "metadata": {},
   "outputs": [],
   "source": []
  },
  {
   "cell_type": "code",
   "execution_count": null,
   "id": "8e792543-c73d-4c60-a2dd-1681c7666403",
   "metadata": {
    "tags": []
   },
   "outputs": [],
   "source": [
    "# Preencher a matriz de gráficos\n",
    "for x_col, y_col in column_combinations:\n",
    "    x_data = full_data_frame[x_col]\n",
    "    y_data = full_data_frame[y_col]\n",
    "    \n",
    "    plot_scatter(x_col, y_col, x_data, y_data)"
   ]
  },
  {
   "cell_type": "code",
   "execution_count": null,
   "id": "812287f8-63cd-4649-96b8-85af23880d6d",
   "metadata": {},
   "outputs": [],
   "source": []
  }
 ],
 "metadata": {
  "kernelspec": {
   "display_name": "Python 3 (ipykernel)",
   "language": "python",
   "name": "python3"
  },
  "language_info": {
   "codemirror_mode": {
    "name": "ipython",
    "version": 3
   },
   "file_extension": ".py",
   "mimetype": "text/x-python",
   "name": "python",
   "nbconvert_exporter": "python",
   "pygments_lexer": "ipython3",
   "version": "3.11.4"
  }
 },
 "nbformat": 4,
 "nbformat_minor": 5
}
