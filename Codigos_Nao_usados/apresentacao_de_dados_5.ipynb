{
 "cells": [
  {
   "cell_type": "code",
   "execution_count": 6,
   "id": "48354a03",
   "metadata": {},
   "outputs": [],
   "source": [
    "# Importações\n",
    "from concurrent.futures import ThreadPoolExecutor\n",
    "from sklearn.metrics import confusion_matrix\n",
    "from itertools import combinations\n",
    "import matplotlib.pyplot as plt\n",
    "import dask.dataframe as dd\n",
    "from scipy import stats\n",
    "import seaborn as sns\n",
    "import pandas as pd\n",
    "import numpy as np\n",
    "import os"
   ]
  },
  {
   "cell_type": "code",
   "execution_count": 7,
   "id": "ff27a10d",
   "metadata": {},
   "outputs": [],
   "source": [
    "# Defina a variável de ambiente OMP_NUM_THREADS para 1\n",
    "os.environ['OMP_NUM_THREADS'] = '8'"
   ]
  },
  {
   "cell_type": "code",
   "execution_count": 8,
   "id": "67035c72",
   "metadata": {},
   "outputs": [],
   "source": [
    "# Leitura do arquivo CSV em partes (chunks) para otimização de uso de memória\n",
    "csv_file_path = \"DrDoS_UDP.csv\"\n",
    "dados = []\n",
    "chunk_size = 100000"
   ]
  },
  {
   "cell_type": "code",
   "execution_count": 9,
   "id": "ea1a7475",
   "metadata": {},
   "outputs": [],
   "source": [
    "# Carregue seus dados (substitua 'seus_dados.csv' pelo nome do seu arquivo)\n",
    "dados = pd.read_csv(csv_file_path, low_memory=False)"
   ]
  },
  {
   "cell_type": "code",
   "execution_count": 10,
   "id": "a1a57aa6",
   "metadata": {},
   "outputs": [
    {
     "data": {
      "text/plain": [
       "3136802"
      ]
     },
     "execution_count": 10,
     "metadata": {},
     "output_type": "execute_result"
    }
   ],
   "source": [
    "dados = pd.DataFrame(dados)\n",
    "len(dados)"
   ]
  },
  {
   "cell_type": "code",
   "execution_count": 11,
   "id": "fc448934",
   "metadata": {},
   "outputs": [
    {
     "name": "stdout",
     "output_type": "stream",
     "text": [
      "         Unnamed: 0                                 Flow ID   Source IP  \\\n",
      "1700177       42873  172.16.0.5-192.168.50.1-53109-38802-17  172.16.0.5   \n",
      "122791        24068  172.16.0.5-192.168.50.1-48599-42819-17  172.16.0.5   \n",
      "926756        16865  172.16.0.5-192.168.50.1-52218-13616-17  172.16.0.5   \n",
      "3007834       44625  172.16.0.5-192.168.50.1-54191-24415-17  172.16.0.5   \n",
      "748966        59700  172.16.0.5-192.168.50.1-51599-59509-17  172.16.0.5   \n",
      "...             ...                                     ...         ...   \n",
      "1684081       84305  172.16.0.5-192.168.50.1-43719-45899-17  172.16.0.5   \n",
      "2786522       36552  172.16.0.5-192.168.50.1-48524-19399-17  172.16.0.5   \n",
      "2639910       98707  172.16.0.5-192.168.50.1-56665-60980-17  172.16.0.5   \n",
      "1725519       19125  172.16.0.5-192.168.50.1-40891-19395-17  172.16.0.5   \n",
      "2782138       95839  172.16.0.5-192.168.50.1-48627-19483-17  172.16.0.5   \n",
      "\n",
      "          Source Port  Destination IP   Destination Port   Protocol  \\\n",
      "1700177         53109    192.168.50.1              38802         17   \n",
      "122791          48599    192.168.50.1              42819         17   \n",
      "926756          52218    192.168.50.1              13616         17   \n",
      "3007834         54191    192.168.50.1              24415         17   \n",
      "748966          51599    192.168.50.1              59509         17   \n",
      "...               ...             ...                ...        ...   \n",
      "1684081         43719    192.168.50.1              45899         17   \n",
      "2786522         48524    192.168.50.1              19399         17   \n",
      "2639910         56665    192.168.50.1              60980         17   \n",
      "1725519         40891    192.168.50.1              19395         17   \n",
      "2782138         48627    192.168.50.1              19483         17   \n",
      "\n",
      "                          Timestamp   Flow Duration   Total Fwd Packets  ...  \\\n",
      "1700177  2018-12-01 13:00:47.213414               1                   2  ...   \n",
      "122791   2018-12-01 12:55:11.147014               1                   2  ...   \n",
      "926756   2018-12-01 12:57:52.703686              46                   2  ...   \n",
      "3007834  2018-12-01 13:04:31.568534               3                   2  ...   \n",
      "748966   2018-12-01 12:57:19.041189          217216                   6  ...   \n",
      "...                             ...             ...                 ...  ...   \n",
      "1684081  2018-12-01 13:00:44.617983               0                   2  ...   \n",
      "2786522  2018-12-01 13:03:51.722752               1                   2  ...   \n",
      "2639910  2018-12-01 13:03:26.008033               1                   2  ...   \n",
      "1725519  2018-12-01 13:00:52.604885               2                   2  ...   \n",
      "2782138  2018-12-01 13:03:50.873234               1                   2  ...   \n",
      "\n",
      "          Active Std   Active Max   Active Min  Idle Mean   Idle Std  \\\n",
      "1700177          0.0          0.0          0.0        0.0        0.0   \n",
      "122791           0.0          0.0          0.0        0.0        0.0   \n",
      "926756           0.0          0.0          0.0        0.0        0.0   \n",
      "3007834          0.0          0.0          0.0        0.0        0.0   \n",
      "748966           0.0          0.0          0.0        0.0        0.0   \n",
      "...              ...          ...          ...        ...        ...   \n",
      "1684081          0.0          0.0          0.0        0.0        0.0   \n",
      "2786522          0.0          0.0          0.0        0.0        0.0   \n",
      "2639910          0.0          0.0          0.0        0.0        0.0   \n",
      "1725519          0.0          0.0          0.0        0.0        0.0   \n",
      "2782138          0.0          0.0          0.0        0.0        0.0   \n",
      "\n",
      "          Idle Max   Idle Min  SimillarHTTP   Inbound      Label  \n",
      "1700177        0.0        0.0             0         1  DrDoS_UDP  \n",
      "122791         0.0        0.0             0         1  DrDoS_UDP  \n",
      "926756         0.0        0.0             0         1  DrDoS_UDP  \n",
      "3007834        0.0        0.0             0         1  DrDoS_UDP  \n",
      "748966         0.0        0.0             0         1  DrDoS_UDP  \n",
      "...            ...        ...           ...       ...        ...  \n",
      "1684081        0.0        0.0             0         1  DrDoS_UDP  \n",
      "2786522        0.0        0.0             0         1  DrDoS_UDP  \n",
      "2639910        0.0        0.0             0         1  DrDoS_UDP  \n",
      "1725519        0.0        0.0             0         1  DrDoS_UDP  \n",
      "2782138        0.0        0.0             0         1  DrDoS_UDP  \n",
      "\n",
      "[100000 rows x 88 columns]\n"
     ]
    }
   ],
   "source": [
    "amostra = dados.sample(n=chunk_size, random_state=42)\n",
    "print(amostra)"
   ]
  },
  {
   "cell_type": "code",
   "execution_count": 12,
   "id": "4172e64e",
   "metadata": {},
   "outputs": [
    {
     "name": "stdout",
     "output_type": "stream",
     "text": [
      "Index(['Unnamed: 0', 'Flow ID', 'Source IP', 'Source Port', 'Destination IP',\n",
      "       'Destination Port', 'Protocol', 'Timestamp', 'Flow Duration',\n",
      "       'Total Fwd Packets', 'Total Backward Packets',\n",
      "       'Total Length of Fwd Packets', 'Total Length of Bwd Packets',\n",
      "       'Fwd Packet Length Max', 'Fwd Packet Length Min',\n",
      "       'Fwd Packet Length Mean', 'Fwd Packet Length Std',\n",
      "       'Bwd Packet Length Max', 'Bwd Packet Length Min',\n",
      "       'Bwd Packet Length Mean', 'Bwd Packet Length Std', 'Flow Bytes/s',\n",
      "       'Flow Packets/s', 'Flow IAT Mean', 'Flow IAT Std', 'Flow IAT Max',\n",
      "       'Flow IAT Min', 'Fwd IAT Total', 'Fwd IAT Mean', 'Fwd IAT Std',\n",
      "       'Fwd IAT Max', 'Fwd IAT Min', 'Bwd IAT Total', 'Bwd IAT Mean',\n",
      "       'Bwd IAT Std', 'Bwd IAT Max', 'Bwd IAT Min', 'Fwd PSH Flags',\n",
      "       'Bwd PSH Flags', 'Fwd URG Flags', 'Bwd URG Flags', 'Fwd Header Length',\n",
      "       'Bwd Header Length', 'Fwd Packets/s', 'Bwd Packets/s',\n",
      "       'Min Packet Length', 'Max Packet Length', 'Packet Length Mean',\n",
      "       'Packet Length Std', 'Packet Length Variance', 'FIN Flag Count',\n",
      "       'SYN Flag Count', 'RST Flag Count', 'PSH Flag Count', 'ACK Flag Count',\n",
      "       'URG Flag Count', 'CWE Flag Count', 'ECE Flag Count', 'Down/Up Ratio',\n",
      "       'Average Packet Size', 'Avg Fwd Segment Size', 'Avg Bwd Segment Size',\n",
      "       'Fwd Header Length.1', 'Fwd Avg Bytes/Bulk', 'Fwd Avg Packets/Bulk',\n",
      "       'Fwd Avg Bulk Rate', 'Bwd Avg Bytes/Bulk', 'Bwd Avg Packets/Bulk',\n",
      "       'Bwd Avg Bulk Rate', 'Subflow Fwd Packets', 'Subflow Fwd Bytes',\n",
      "       'Subflow Bwd Packets', 'Subflow Bwd Bytes', 'Init_Win_bytes_forward',\n",
      "       'Init_Win_bytes_backward', 'act_data_pkt_fwd', 'min_seg_size_forward',\n",
      "       'Active Mean', 'Active Std', 'Active Max', 'Active Min', 'Idle Mean',\n",
      "       'Idle Std', 'Idle Max', 'Idle Min', 'SimillarHTTP', 'Inbound', 'Label'],\n",
      "      dtype='object')\n"
     ]
    }
   ],
   "source": [
    "dados_tr = amostra\n",
    "print(dados_tr.columns.str.strip())"
   ]
  },
  {
   "cell_type": "code",
   "execution_count": 13,
   "id": "4e8422fe",
   "metadata": {},
   "outputs": [
    {
     "name": "stdout",
     "output_type": "stream",
     "text": [
      "Colunas Selecionadas:\n",
      "Index(['Fwd Packet Length Std', 'Packet Length Std', 'Fwd IAT Mean',\n",
      "       'min_seg_size_forward', 'Fwd IAT Max', 'Destination Port',\n",
      "       'Fwd Packet Length Max', 'Fwd Packet Length Mean',\n",
      "       'Fwd Packet Length Min', 'Protocol', 'Timestamp'],\n",
      "      dtype='object')\n",
      "         Fwd Packet Length Std  Packet Length Std  Fwd IAT Mean  \\\n",
      "1700177                0.00000           0.000000           1.0   \n",
      "122791                 0.00000           0.000000           1.0   \n",
      "926756                 0.00000           0.000000          46.0   \n",
      "3007834                0.00000           0.000000           3.0   \n",
      "748966                35.08846          33.617597       43443.2   \n",
      "...                        ...                ...           ...   \n",
      "1684081                0.00000           0.000000           0.0   \n",
      "2786522                0.00000           0.000000           1.0   \n",
      "2639910                0.00000           0.000000           1.0   \n",
      "1725519                0.00000           0.000000           2.0   \n",
      "2782138                0.00000           0.000000           1.0   \n",
      "\n",
      "         min_seg_size_forward  Fwd IAT Max  Destination Port  \\\n",
      "1700177                     8          1.0             38802   \n",
      "122791                      8          1.0             42819   \n",
      "926756                     20         46.0             13616   \n",
      "3007834                    20          3.0             24415   \n",
      "748966                      0     110116.0             59509   \n",
      "...                       ...          ...               ...   \n",
      "1684081                    20          0.0             45899   \n",
      "2786522                    20          1.0             19399   \n",
      "2639910                    -1          1.0             60980   \n",
      "1725519                     8          2.0             19395   \n",
      "2782138                     8          1.0             19483   \n",
      "\n",
      "         Fwd Packet Length Max  Fwd Packet Length Mean  Fwd Packet Length Min  \\\n",
      "1700177                  375.0                   375.0                  375.0   \n",
      "122791                   383.0                   383.0                  383.0   \n",
      "926756                   401.0                   401.0                  401.0   \n",
      "3007834                  401.0                   401.0                  401.0   \n",
      "748966                   393.0                   348.0                  321.0   \n",
      "...                        ...                     ...                    ...   \n",
      "1684081                  375.0                   375.0                  375.0   \n",
      "2786522                  401.0                   401.0                  401.0   \n",
      "2639910                  375.0                   375.0                  375.0   \n",
      "1725519                  401.0                   401.0                  401.0   \n",
      "2782138                  383.0                   383.0                  383.0   \n",
      "\n",
      "         Protocol                   Timestamp  \n",
      "1700177        17  2018-12-01 13:00:47.213414  \n",
      "122791         17  2018-12-01 12:55:11.147014  \n",
      "926756         17  2018-12-01 12:57:52.703686  \n",
      "3007834        17  2018-12-01 13:04:31.568534  \n",
      "748966         17  2018-12-01 12:57:19.041189  \n",
      "...           ...                         ...  \n",
      "1684081        17  2018-12-01 13:00:44.617983  \n",
      "2786522        17  2018-12-01 13:03:51.722752  \n",
      "2639910        17  2018-12-01 13:03:26.008033  \n",
      "1725519        17  2018-12-01 13:00:52.604885  \n",
      "2782138        17  2018-12-01 13:03:50.873234  \n",
      "\n",
      "[100000 rows x 11 columns]\n"
     ]
    }
   ],
   "source": [
    "# Lista das colunas a serem selecionadas\n",
    "colunas_selecionadas = ['Fwd Packet Length Std', 'Packet Length Std', 'Fwd IAT Mean', 'min_seg_size_forward',\n",
    "                        'Fwd IAT Max', 'Destination Port', 'Fwd Packet Length Max', 'Fwd Packet Length Mean',\n",
    "                        'Fwd Packet Length Min', 'Protocol', 'Timestamp']\n",
    "\n",
    "# Remova espaços em branco dos nomes das colunas\n",
    "dados_tr.columns = dados_tr.columns.str.strip()\n",
    "\n",
    "# Verifique se todas as colunas selecionadas estão no DataFrame\n",
    "if set(colunas_selecionadas).issubset(dados_tr.columns):\n",
    "    # Selecionar apenas as colunas desejadas\n",
    "    df_dados = dados_tr[colunas_selecionadas]\n",
    "\n",
    "    # Mostrar todas as colunas disponíveis no novo DataFrame\n",
    "    print(\"Colunas Selecionadas:\")\n",
    "    print(df_dados.columns)\n",
    "    print(df_dados)\n",
    "else:\n",
    "    print(dados_tr.columns)\n",
    "    print(dados_tr)\n",
    "    print(\"Nomes das colunas selecionadas não correspondem às colunas no DataFrame.\")"
   ]
  },
  {
   "cell_type": "code",
   "execution_count": 14,
   "id": "9497a94a",
   "metadata": {},
   "outputs": [],
   "source": [
    "df_dados = df_dados.sort_values(by='Timestamp')"
   ]
  },
  {
   "cell_type": "code",
   "execution_count": 15,
   "id": "7d4bdf0b",
   "metadata": {},
   "outputs": [],
   "source": [
    "# Função para criar histograma de uma coluna\n",
    "def criar_histograma(coluna):\n",
    "    plt.figure(figsize=(8, 6))  # Ajuste o tamanho da figura conforme necessário\n",
    "    plt.hist(df_dados['Timestamp'], bins=50, alpha=0.5, label='Timestamp')  # Crie o histograma para \"Timestamp\"\n",
    "    plt.hist(df_dados[coluna], bins=50, alpha=0.5, label=coluna)  # Crie o histograma para a coluna atual\n",
    "    plt.xlabel('Timestamp')  # Rótulo do eixo x\n",
    "    plt.ylabel('Frequência')  # Rótulo do eixo y\n",
    "    plt.title(f'Histograma para {coluna} com base em Timestamp')  # Título do gráfico\n",
    "    plt.legend(loc='upper right')  # Adicione uma legenda\n",
    "    plt.show()  # Mostre o gráfico"
   ]
  },
  {
   "cell_type": "code",
   "execution_count": null,
   "id": "ee33a59e",
   "metadata": {},
   "outputs": [
    {
     "name": "stdout",
     "output_type": "stream",
     "text": [
      "Fwd Packet Length Std\n",
      "Packet Length Std\n",
      "Fwd IAT Mean\n",
      "min_seg_size_forward\n",
      "Fwd IAT Max\n",
      "Destination Port\n",
      "Fwd Packet Length Max\n",
      "Fwd Packet Length Mean\n",
      "Fwd Packet Length Min\n",
      "Protocol\n",
      "Timestamp\n"
     ]
    }
   ],
   "source": [
    "# Crie threads para processar cada coluna\n",
    "with ThreadPoolExecutor() as executor:\n",
    "    for coluna in colunas_selecionadas:\n",
    "        executor.submit(criar_histograma, coluna)\n",
    "        print(coluna)"
   ]
  },
  {
   "cell_type": "code",
   "execution_count": null,
   "id": "3634f539",
   "metadata": {},
   "outputs": [],
   "source": []
  },
  {
   "cell_type": "code",
   "execution_count": null,
   "id": "9686de1c",
   "metadata": {},
   "outputs": [],
   "source": []
  }
 ],
 "metadata": {
  "kernelspec": {
   "display_name": "Python 3 (ipykernel)",
   "language": "python",
   "name": "python3"
  },
  "language_info": {
   "codemirror_mode": {
    "name": "ipython",
    "version": 3
   },
   "file_extension": ".py",
   "mimetype": "text/x-python",
   "name": "python",
   "nbconvert_exporter": "python",
   "pygments_lexer": "ipython3",
   "version": "3.11.4"
  }
 },
 "nbformat": 4,
 "nbformat_minor": 5
}
