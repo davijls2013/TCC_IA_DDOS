{
 "cells": [
  {
   "cell_type": "code",
   "execution_count": 29,
   "id": "e715cf04",
   "metadata": {
    "tags": []
   },
   "outputs": [],
   "source": [
    "# Importações\n",
    "from sklearn.metrics import classification_report, confusion_matrix\n",
    "from sklearn.model_selection import train_test_split\n",
    "from sklearn.ensemble import RandomForestClassifier\n",
    "from sklearn.linear_model import LogisticRegression\n",
    "from IPython.display import display, clear_output\n",
    "from concurrent.futures import ThreadPoolExecutor\n",
    "from sklearn.linear_model import LinearRegression\n",
    "from sklearn.tree import DecisionTreeClassifier\n",
    "from matplotlib.animation import FuncAnimation\n",
    "from sklearn.preprocessing import LabelEncoder\n",
    "from sklearn.metrics import confusion_matrix\n",
    "from sklearn.metrics import accuracy_score\n",
    "from IPython.display import display_html\n",
    "from sklearn.tree import export_graphviz\n",
    "from mpl_toolkits.mplot3d import Axes3D\n",
    "from sklearn.decomposition import PCA\n",
    "from sklearn.metrics import r2_score\n",
    "from itertools import combinations\n",
    "from sklearn import linear_model\n",
    "from graphviz import Digraph\n",
    "from sklearn import tree\n",
    "from scipy import stats\n",
    "from PyPDF2 import PdfMerger\n",
    "\n",
    "\n",
    "import matplotlib.backends.backend_pdf as pltpdf\n",
    "import matplotlib.dates as mdates\n",
    "import matplotlib.pyplot as plt\n",
    "import dask.dataframe as dd\n",
    "import graphviz as gv\n",
    "import seaborn as sns\n",
    "import pandas as pd\n",
    "import numpy as np\n",
    "import datetime\n",
    "import graphviz\n",
    "import warnings\n",
    "import os\n",
    "import re\n",
    "\n",
    "warnings.filterwarnings(\"ignore\", category=UserWarning, module=\"seaborn\")\n",
    "os.environ[\"PATH\"] += os.pathsep + 'C:\\Program Files\\Graphviz\\bin'"
   ]
  },
  {
   "cell_type": "code",
   "execution_count": 31,
   "id": "429d95cd",
   "metadata": {
    "tags": []
   },
   "outputs": [],
   "source": [
    "# Leitura do arquivo CSV em partes (chunks) para otimização de uso de memória\n",
    "csv_file_path = \"DrDoS_UDP.csv\"\n",
    "dados = []"
   ]
  },
  {
   "cell_type": "code",
   "execution_count": 12,
   "id": "71c0d604",
   "metadata": {
    "tags": []
   },
   "outputs": [],
   "source": [
    "# Carregue seus dados (substitua 'seus_dados.csv' pelo nome do seu arquivo)\n",
    "dados = pd.read_csv(csv_file_path, low_memory=False)"
   ]
  },
  {
   "cell_type": "code",
   "execution_count": 13,
   "id": "556bf8c0",
   "metadata": {
    "tags": []
   },
   "outputs": [],
   "source": [
    "amostra = dados"
   ]
  },
  {
   "cell_type": "code",
   "execution_count": 32,
   "id": "e6ee772d",
   "metadata": {
    "tags": []
   },
   "outputs": [
    {
     "data": {
      "text/html": [
       "<div>\n",
       "<style scoped>\n",
       "    .dataframe tbody tr th:only-of-type {\n",
       "        vertical-align: middle;\n",
       "    }\n",
       "\n",
       "    .dataframe tbody tr th {\n",
       "        vertical-align: top;\n",
       "    }\n",
       "\n",
       "    .dataframe thead th {\n",
       "        text-align: right;\n",
       "    }\n",
       "</style>\n",
       "<table border=\"1\" class=\"dataframe\">\n",
       "  <thead>\n",
       "    <tr style=\"text-align: right;\">\n",
       "      <th></th>\n",
       "      <th>Unnamed: 0</th>\n",
       "      <th>Source Port</th>\n",
       "      <th>Destination Port</th>\n",
       "      <th>Protocol</th>\n",
       "      <th>Flow Duration</th>\n",
       "      <th>Total Fwd Packets</th>\n",
       "      <th>Total Backward Packets</th>\n",
       "      <th>Total Length of Fwd Packets</th>\n",
       "      <th>Total Length of Bwd Packets</th>\n",
       "      <th>Fwd Packet Length Max</th>\n",
       "      <th>...</th>\n",
       "      <th>min_seg_size_forward</th>\n",
       "      <th>Active Mean</th>\n",
       "      <th>Active Std</th>\n",
       "      <th>Active Max</th>\n",
       "      <th>Active Min</th>\n",
       "      <th>Idle Mean</th>\n",
       "      <th>Idle Std</th>\n",
       "      <th>Idle Max</th>\n",
       "      <th>Idle Min</th>\n",
       "      <th>Inbound</th>\n",
       "    </tr>\n",
       "  </thead>\n",
       "  <tbody>\n",
       "    <tr>\n",
       "      <th>count</th>\n",
       "      <td>3.136802e+06</td>\n",
       "      <td>3.136802e+06</td>\n",
       "      <td>3.136802e+06</td>\n",
       "      <td>3.136802e+06</td>\n",
       "      <td>3.136802e+06</td>\n",
       "      <td>3.136802e+06</td>\n",
       "      <td>3.136802e+06</td>\n",
       "      <td>3.136802e+06</td>\n",
       "      <td>3.136802e+06</td>\n",
       "      <td>3.136802e+06</td>\n",
       "      <td>...</td>\n",
       "      <td>3.136802e+06</td>\n",
       "      <td>3.136802e+06</td>\n",
       "      <td>3.136802e+06</td>\n",
       "      <td>3.136802e+06</td>\n",
       "      <td>3.136802e+06</td>\n",
       "      <td>3.136802e+06</td>\n",
       "      <td>3.136802e+06</td>\n",
       "      <td>3.136802e+06</td>\n",
       "      <td>3.136802e+06</td>\n",
       "      <td>3.136802e+06</td>\n",
       "    </tr>\n",
       "    <tr>\n",
       "      <th>mean</th>\n",
       "      <td>6.284729e+04</td>\n",
       "      <td>4.678466e+04</td>\n",
       "      <td>3.326777e+04</td>\n",
       "      <td>1.699073e+01</td>\n",
       "      <td>9.454659e+04</td>\n",
       "      <td>3.769507e+00</td>\n",
       "      <td>5.931838e-03</td>\n",
       "      <td>1.370530e+03</td>\n",
       "      <td>1.257003e+00</td>\n",
       "      <td>3.885615e+02</td>\n",
       "      <td>...</td>\n",
       "      <td>-3.979974e+07</td>\n",
       "      <td>1.441213e+02</td>\n",
       "      <td>5.098763e+01</td>\n",
       "      <td>1.891834e+02</td>\n",
       "      <td>1.061237e+02</td>\n",
       "      <td>2.348633e+03</td>\n",
       "      <td>1.030996e+02</td>\n",
       "      <td>2.454045e+03</td>\n",
       "      <td>2.266851e+03</td>\n",
       "      <td>9.988192e-01</td>\n",
       "    </tr>\n",
       "    <tr>\n",
       "      <th>std</th>\n",
       "      <td>3.640744e+04</td>\n",
       "      <td>8.463285e+03</td>\n",
       "      <td>1.865171e+04</td>\n",
       "      <td>3.255629e-01</td>\n",
       "      <td>6.825386e+05</td>\n",
       "      <td>3.745687e+00</td>\n",
       "      <td>6.018696e-01</td>\n",
       "      <td>1.120631e+03</td>\n",
       "      <td>2.431255e+02</td>\n",
       "      <td>4.950828e+01</td>\n",
       "      <td>...</td>\n",
       "      <td>2.017720e+08</td>\n",
       "      <td>5.206479e+04</td>\n",
       "      <td>3.149175e+04</td>\n",
       "      <td>6.879844e+04</td>\n",
       "      <td>4.339355e+04</td>\n",
       "      <td>3.168890e+05</td>\n",
       "      <td>3.667490e+04</td>\n",
       "      <td>3.264913e+05</td>\n",
       "      <td>3.117682e+05</td>\n",
       "      <td>3.434278e-02</td>\n",
       "    </tr>\n",
       "    <tr>\n",
       "      <th>min</th>\n",
       "      <td>0.000000e+00</td>\n",
       "      <td>0.000000e+00</td>\n",
       "      <td>0.000000e+00</td>\n",
       "      <td>0.000000e+00</td>\n",
       "      <td>0.000000e+00</td>\n",
       "      <td>1.000000e+00</td>\n",
       "      <td>0.000000e+00</td>\n",
       "      <td>0.000000e+00</td>\n",
       "      <td>0.000000e+00</td>\n",
       "      <td>0.000000e+00</td>\n",
       "      <td>...</td>\n",
       "      <td>-1.062719e+09</td>\n",
       "      <td>0.000000e+00</td>\n",
       "      <td>0.000000e+00</td>\n",
       "      <td>0.000000e+00</td>\n",
       "      <td>0.000000e+00</td>\n",
       "      <td>0.000000e+00</td>\n",
       "      <td>0.000000e+00</td>\n",
       "      <td>0.000000e+00</td>\n",
       "      <td>0.000000e+00</td>\n",
       "      <td>0.000000e+00</td>\n",
       "    </tr>\n",
       "    <tr>\n",
       "      <th>25%</th>\n",
       "      <td>3.136800e+04</td>\n",
       "      <td>3.980600e+04</td>\n",
       "      <td>1.715900e+04</td>\n",
       "      <td>1.700000e+01</td>\n",
       "      <td>1.000000e+00</td>\n",
       "      <td>2.000000e+00</td>\n",
       "      <td>0.000000e+00</td>\n",
       "      <td>7.660000e+02</td>\n",
       "      <td>0.000000e+00</td>\n",
       "      <td>3.750000e+02</td>\n",
       "      <td>...</td>\n",
       "      <td>0.000000e+00</td>\n",
       "      <td>0.000000e+00</td>\n",
       "      <td>0.000000e+00</td>\n",
       "      <td>0.000000e+00</td>\n",
       "      <td>0.000000e+00</td>\n",
       "      <td>0.000000e+00</td>\n",
       "      <td>0.000000e+00</td>\n",
       "      <td>0.000000e+00</td>\n",
       "      <td>0.000000e+00</td>\n",
       "      <td>1.000000e+00</td>\n",
       "    </tr>\n",
       "    <tr>\n",
       "      <th>50%</th>\n",
       "      <td>6.273600e+04</td>\n",
       "      <td>4.689400e+04</td>\n",
       "      <td>3.329400e+04</td>\n",
       "      <td>1.700000e+01</td>\n",
       "      <td>1.320000e+02</td>\n",
       "      <td>4.000000e+00</td>\n",
       "      <td>0.000000e+00</td>\n",
       "      <td>1.398000e+03</td>\n",
       "      <td>0.000000e+00</td>\n",
       "      <td>3.890000e+02</td>\n",
       "      <td>...</td>\n",
       "      <td>2.000000e+01</td>\n",
       "      <td>0.000000e+00</td>\n",
       "      <td>0.000000e+00</td>\n",
       "      <td>0.000000e+00</td>\n",
       "      <td>0.000000e+00</td>\n",
       "      <td>0.000000e+00</td>\n",
       "      <td>0.000000e+00</td>\n",
       "      <td>0.000000e+00</td>\n",
       "      <td>0.000000e+00</td>\n",
       "      <td>1.000000e+00</td>\n",
       "    </tr>\n",
       "    <tr>\n",
       "      <th>75%</th>\n",
       "      <td>9.410400e+04</td>\n",
       "      <td>5.389600e+04</td>\n",
       "      <td>4.942600e+04</td>\n",
       "      <td>1.700000e+01</td>\n",
       "      <td>1.088440e+05</td>\n",
       "      <td>4.000000e+00</td>\n",
       "      <td>0.000000e+00</td>\n",
       "      <td>1.438000e+03</td>\n",
       "      <td>0.000000e+00</td>\n",
       "      <td>3.930000e+02</td>\n",
       "      <td>...</td>\n",
       "      <td>2.000000e+01</td>\n",
       "      <td>0.000000e+00</td>\n",
       "      <td>0.000000e+00</td>\n",
       "      <td>0.000000e+00</td>\n",
       "      <td>0.000000e+00</td>\n",
       "      <td>0.000000e+00</td>\n",
       "      <td>0.000000e+00</td>\n",
       "      <td>0.000000e+00</td>\n",
       "      <td>0.000000e+00</td>\n",
       "      <td>1.000000e+00</td>\n",
       "    </tr>\n",
       "    <tr>\n",
       "      <th>max</th>\n",
       "      <td>1.325940e+05</td>\n",
       "      <td>6.553100e+04</td>\n",
       "      <td>6.553500e+04</td>\n",
       "      <td>1.700000e+01</td>\n",
       "      <td>1.200000e+08</td>\n",
       "      <td>2.232000e+03</td>\n",
       "      <td>3.610000e+02</td>\n",
       "      <td>5.907600e+04</td>\n",
       "      <td>2.057900e+05</td>\n",
       "      <td>3.547000e+03</td>\n",
       "      <td>...</td>\n",
       "      <td>1.472000e+03</td>\n",
       "      <td>6.151289e+07</td>\n",
       "      <td>4.868047e+07</td>\n",
       "      <td>7.286843e+07</td>\n",
       "      <td>6.151289e+07</td>\n",
       "      <td>1.166865e+08</td>\n",
       "      <td>3.551041e+07</td>\n",
       "      <td>1.166865e+08</td>\n",
       "      <td>1.166865e+08</td>\n",
       "      <td>1.000000e+00</td>\n",
       "    </tr>\n",
       "  </tbody>\n",
       "</table>\n",
       "<p>8 rows × 82 columns</p>\n",
       "</div>"
      ],
      "text/plain": [
       "         Unnamed: 0   Source Port  Destination Port      Protocol  \\\n",
       "count  3.136802e+06  3.136802e+06      3.136802e+06  3.136802e+06   \n",
       "mean   6.284729e+04  4.678466e+04      3.326777e+04  1.699073e+01   \n",
       "std    3.640744e+04  8.463285e+03      1.865171e+04  3.255629e-01   \n",
       "min    0.000000e+00  0.000000e+00      0.000000e+00  0.000000e+00   \n",
       "25%    3.136800e+04  3.980600e+04      1.715900e+04  1.700000e+01   \n",
       "50%    6.273600e+04  4.689400e+04      3.329400e+04  1.700000e+01   \n",
       "75%    9.410400e+04  5.389600e+04      4.942600e+04  1.700000e+01   \n",
       "max    1.325940e+05  6.553100e+04      6.553500e+04  1.700000e+01   \n",
       "\n",
       "       Flow Duration  Total Fwd Packets  Total Backward Packets  \\\n",
       "count   3.136802e+06       3.136802e+06            3.136802e+06   \n",
       "mean    9.454659e+04       3.769507e+00            5.931838e-03   \n",
       "std     6.825386e+05       3.745687e+00            6.018696e-01   \n",
       "min     0.000000e+00       1.000000e+00            0.000000e+00   \n",
       "25%     1.000000e+00       2.000000e+00            0.000000e+00   \n",
       "50%     1.320000e+02       4.000000e+00            0.000000e+00   \n",
       "75%     1.088440e+05       4.000000e+00            0.000000e+00   \n",
       "max     1.200000e+08       2.232000e+03            3.610000e+02   \n",
       "\n",
       "       Total Length of Fwd Packets  Total Length of Bwd Packets  \\\n",
       "count                 3.136802e+06                 3.136802e+06   \n",
       "mean                  1.370530e+03                 1.257003e+00   \n",
       "std                   1.120631e+03                 2.431255e+02   \n",
       "min                   0.000000e+00                 0.000000e+00   \n",
       "25%                   7.660000e+02                 0.000000e+00   \n",
       "50%                   1.398000e+03                 0.000000e+00   \n",
       "75%                   1.438000e+03                 0.000000e+00   \n",
       "max                   5.907600e+04                 2.057900e+05   \n",
       "\n",
       "       Fwd Packet Length Max  ...  min_seg_size_forward   Active Mean  \\\n",
       "count           3.136802e+06  ...          3.136802e+06  3.136802e+06   \n",
       "mean            3.885615e+02  ...         -3.979974e+07  1.441213e+02   \n",
       "std             4.950828e+01  ...          2.017720e+08  5.206479e+04   \n",
       "min             0.000000e+00  ...         -1.062719e+09  0.000000e+00   \n",
       "25%             3.750000e+02  ...          0.000000e+00  0.000000e+00   \n",
       "50%             3.890000e+02  ...          2.000000e+01  0.000000e+00   \n",
       "75%             3.930000e+02  ...          2.000000e+01  0.000000e+00   \n",
       "max             3.547000e+03  ...          1.472000e+03  6.151289e+07   \n",
       "\n",
       "         Active Std    Active Max    Active Min     Idle Mean      Idle Std  \\\n",
       "count  3.136802e+06  3.136802e+06  3.136802e+06  3.136802e+06  3.136802e+06   \n",
       "mean   5.098763e+01  1.891834e+02  1.061237e+02  2.348633e+03  1.030996e+02   \n",
       "std    3.149175e+04  6.879844e+04  4.339355e+04  3.168890e+05  3.667490e+04   \n",
       "min    0.000000e+00  0.000000e+00  0.000000e+00  0.000000e+00  0.000000e+00   \n",
       "25%    0.000000e+00  0.000000e+00  0.000000e+00  0.000000e+00  0.000000e+00   \n",
       "50%    0.000000e+00  0.000000e+00  0.000000e+00  0.000000e+00  0.000000e+00   \n",
       "75%    0.000000e+00  0.000000e+00  0.000000e+00  0.000000e+00  0.000000e+00   \n",
       "max    4.868047e+07  7.286843e+07  6.151289e+07  1.166865e+08  3.551041e+07   \n",
       "\n",
       "           Idle Max      Idle Min       Inbound  \n",
       "count  3.136802e+06  3.136802e+06  3.136802e+06  \n",
       "mean   2.454045e+03  2.266851e+03  9.988192e-01  \n",
       "std    3.264913e+05  3.117682e+05  3.434278e-02  \n",
       "min    0.000000e+00  0.000000e+00  0.000000e+00  \n",
       "25%    0.000000e+00  0.000000e+00  1.000000e+00  \n",
       "50%    0.000000e+00  0.000000e+00  1.000000e+00  \n",
       "75%    0.000000e+00  0.000000e+00  1.000000e+00  \n",
       "max    1.166865e+08  1.166865e+08  1.000000e+00  \n",
       "\n",
       "[8 rows x 82 columns]"
      ]
     },
     "metadata": {},
     "output_type": "display_data"
    },
    {
     "name": "stdout",
     "output_type": "stream",
     "text": [
      "Index(['Unnamed: 0', 'Flow ID', 'Source IP', 'Source Port', 'Destination IP',\n",
      "       'Destination Port', 'Protocol', 'Timestamp', 'Flow Duration',\n",
      "       'Total Fwd Packets', 'Total Backward Packets',\n",
      "       'Total Length of Fwd Packets', 'Total Length of Bwd Packets',\n",
      "       'Fwd Packet Length Max', 'Fwd Packet Length Min',\n",
      "       'Fwd Packet Length Mean', 'Fwd Packet Length Std',\n",
      "       'Bwd Packet Length Max', 'Bwd Packet Length Min',\n",
      "       'Bwd Packet Length Mean', 'Bwd Packet Length Std', 'Flow Bytes/s',\n",
      "       'Flow Packets/s', 'Flow IAT Mean', 'Flow IAT Std', 'Flow IAT Max',\n",
      "       'Flow IAT Min', 'Fwd IAT Total', 'Fwd IAT Mean', 'Fwd IAT Std',\n",
      "       'Fwd IAT Max', 'Fwd IAT Min', 'Bwd IAT Total', 'Bwd IAT Mean',\n",
      "       'Bwd IAT Std', 'Bwd IAT Max', 'Bwd IAT Min', 'Fwd PSH Flags',\n",
      "       'Bwd PSH Flags', 'Fwd URG Flags', 'Bwd URG Flags', 'Fwd Header Length',\n",
      "       'Bwd Header Length', 'Fwd Packets/s', 'Bwd Packets/s',\n",
      "       'Min Packet Length', 'Max Packet Length', 'Packet Length Mean',\n",
      "       'Packet Length Std', 'Packet Length Variance', 'FIN Flag Count',\n",
      "       'SYN Flag Count', 'RST Flag Count', 'PSH Flag Count', 'ACK Flag Count',\n",
      "       'URG Flag Count', 'CWE Flag Count', 'ECE Flag Count', 'Down/Up Ratio',\n",
      "       'Average Packet Size', 'Avg Fwd Segment Size', 'Avg Bwd Segment Size',\n",
      "       'Fwd Header Length.1', 'Fwd Avg Bytes/Bulk', 'Fwd Avg Packets/Bulk',\n",
      "       'Fwd Avg Bulk Rate', 'Bwd Avg Bytes/Bulk', 'Bwd Avg Packets/Bulk',\n",
      "       'Bwd Avg Bulk Rate', 'Subflow Fwd Packets', 'Subflow Fwd Bytes',\n",
      "       'Subflow Bwd Packets', 'Subflow Bwd Bytes', 'Init_Win_bytes_forward',\n",
      "       'Init_Win_bytes_backward', 'act_data_pkt_fwd', 'min_seg_size_forward',\n",
      "       'Active Mean', 'Active Std', 'Active Max', 'Active Min', 'Idle Mean',\n",
      "       'Idle Std', 'Idle Max', 'Idle Min', 'SimillarHTTP', 'Inbound', 'Label'],\n",
      "      dtype='object')\n"
     ]
    }
   ],
   "source": [
    "dados.columns = dados.columns.str.strip()\n",
    "display(dados.describe())\n",
    "print(dados.columns)"
   ]
  },
  {
   "cell_type": "code",
   "execution_count": null,
   "id": "618f608c-92d1-4337-9b5b-cfeb1563cc20",
   "metadata": {},
   "outputs": [],
   "source": []
  },
  {
   "cell_type": "code",
   "execution_count": 33,
   "id": "e87fe5ef",
   "metadata": {
    "tags": []
   },
   "outputs": [],
   "source": [
    "dados_tr = amostra\n",
    "dados_tr.reset_index(drop=True, inplace=True)"
   ]
  },
  {
   "cell_type": "code",
   "execution_count": 34,
   "id": "9bfa7cc9-b84f-4200-88ec-682d37fc6735",
   "metadata": {
    "tags": []
   },
   "outputs": [],
   "source": [
    "#amostra2 = dados[dados['Label'].str.contains('BENIGN')]\n",
    "## Concatenar amostra e amostra2\n",
    "#dados_tr = pd.concat([amostra, amostra2])\n",
    "\n",
    "# Redefinir o índice do DataFrame concatenado\n",
    "#dados_tr.reset_index(drop=True, inplace=True)"
   ]
  },
  {
   "cell_type": "code",
   "execution_count": 35,
   "id": "edb87096",
   "metadata": {
    "tags": []
   },
   "outputs": [
    {
     "name": "stdout",
     "output_type": "stream",
     "text": [
      "Primeiro horario do ataque: 2018-12-01 12:36:57.628026\n",
      "Ultimo horario do ataque: 2018-12-01 13:04:45.928382\n",
      "Colunas Selecionadas:\n",
      "Index(['Fwd Packet Length Mean', 'Fwd IAT Mean', 'min_seg_size_forward',\n",
      "       'Destination Port', 'Protocol', 'Timestamp', 'Label'],\n",
      "      dtype='object')\n",
      "\n",
      "\n"
     ]
    },
    {
     "data": {
      "text/html": [
       "<div>\n",
       "<style scoped>\n",
       "    .dataframe tbody tr th:only-of-type {\n",
       "        vertical-align: middle;\n",
       "    }\n",
       "\n",
       "    .dataframe tbody tr th {\n",
       "        vertical-align: top;\n",
       "    }\n",
       "\n",
       "    .dataframe thead th {\n",
       "        text-align: right;\n",
       "    }\n",
       "</style>\n",
       "<table border=\"1\" class=\"dataframe\">\n",
       "  <thead>\n",
       "    <tr style=\"text-align: right;\">\n",
       "      <th></th>\n",
       "      <th>Fwd Packet Length Mean</th>\n",
       "      <th>Fwd IAT Mean</th>\n",
       "      <th>min_seg_size_forward</th>\n",
       "      <th>Destination Port</th>\n",
       "      <th>Protocol</th>\n",
       "      <th>Timestamp</th>\n",
       "      <th>Label</th>\n",
       "    </tr>\n",
       "  </thead>\n",
       "  <tbody>\n",
       "    <tr>\n",
       "      <th>0</th>\n",
       "      <td>348.0</td>\n",
       "      <td>43679.000000</td>\n",
       "      <td>-1</td>\n",
       "      <td>6652</td>\n",
       "      <td>17</td>\n",
       "      <td>2018-12-01 12:36:57.628026</td>\n",
       "      <td>DrDoS_UDP</td>\n",
       "    </tr>\n",
       "    <tr>\n",
       "      <th>1</th>\n",
       "      <td>349.5</td>\n",
       "      <td>36073.000000</td>\n",
       "      <td>-1</td>\n",
       "      <td>9712</td>\n",
       "      <td>17</td>\n",
       "      <td>2018-12-01 12:36:57.628076</td>\n",
       "      <td>DrDoS_UDP</td>\n",
       "    </tr>\n",
       "    <tr>\n",
       "      <th>2</th>\n",
       "      <td>359.5</td>\n",
       "      <td>34859.666667</td>\n",
       "      <td>-1</td>\n",
       "      <td>4680</td>\n",
       "      <td>17</td>\n",
       "      <td>2018-12-01 12:36:57.628164</td>\n",
       "      <td>DrDoS_UDP</td>\n",
       "    </tr>\n",
       "    <tr>\n",
       "      <th>3</th>\n",
       "      <td>386.0</td>\n",
       "      <td>36989.000000</td>\n",
       "      <td>-1</td>\n",
       "      <td>2644</td>\n",
       "      <td>17</td>\n",
       "      <td>2018-12-01 12:36:57.628166</td>\n",
       "      <td>DrDoS_UDP</td>\n",
       "    </tr>\n",
       "    <tr>\n",
       "      <th>4</th>\n",
       "      <td>383.0</td>\n",
       "      <td>1.000000</td>\n",
       "      <td>-1</td>\n",
       "      <td>16901</td>\n",
       "      <td>17</td>\n",
       "      <td>2018-12-01 12:36:57.628217</td>\n",
       "      <td>DrDoS_UDP</td>\n",
       "    </tr>\n",
       "    <tr>\n",
       "      <th>...</th>\n",
       "      <td>...</td>\n",
       "      <td>...</td>\n",
       "      <td>...</td>\n",
       "      <td>...</td>\n",
       "      <td>...</td>\n",
       "      <td>...</td>\n",
       "      <td>...</td>\n",
       "    </tr>\n",
       "    <tr>\n",
       "      <th>3136797</th>\n",
       "      <td>401.0</td>\n",
       "      <td>2.000000</td>\n",
       "      <td>20</td>\n",
       "      <td>6479</td>\n",
       "      <td>17</td>\n",
       "      <td>2018-12-01 13:04:45.928050</td>\n",
       "      <td>DrDoS_UDP</td>\n",
       "    </tr>\n",
       "    <tr>\n",
       "      <th>3136798</th>\n",
       "      <td>401.0</td>\n",
       "      <td>1.000000</td>\n",
       "      <td>20</td>\n",
       "      <td>33462</td>\n",
       "      <td>17</td>\n",
       "      <td>2018-12-01 13:04:45.928055</td>\n",
       "      <td>DrDoS_UDP</td>\n",
       "    </tr>\n",
       "    <tr>\n",
       "      <th>3136799</th>\n",
       "      <td>321.0</td>\n",
       "      <td>2.000000</td>\n",
       "      <td>20</td>\n",
       "      <td>22593</td>\n",
       "      <td>17</td>\n",
       "      <td>2018-12-01 13:04:45.928173</td>\n",
       "      <td>DrDoS_UDP</td>\n",
       "    </tr>\n",
       "    <tr>\n",
       "      <th>3136800</th>\n",
       "      <td>375.0</td>\n",
       "      <td>2.000000</td>\n",
       "      <td>20</td>\n",
       "      <td>46618</td>\n",
       "      <td>17</td>\n",
       "      <td>2018-12-01 13:04:45.928225</td>\n",
       "      <td>DrDoS_UDP</td>\n",
       "    </tr>\n",
       "    <tr>\n",
       "      <th>3136801</th>\n",
       "      <td>375.0</td>\n",
       "      <td>1.000000</td>\n",
       "      <td>20</td>\n",
       "      <td>65428</td>\n",
       "      <td>17</td>\n",
       "      <td>2018-12-01 13:04:45.928382</td>\n",
       "      <td>DrDoS_UDP</td>\n",
       "    </tr>\n",
       "  </tbody>\n",
       "</table>\n",
       "<p>3136802 rows × 7 columns</p>\n",
       "</div>"
      ],
      "text/plain": [
       "         Fwd Packet Length Mean  Fwd IAT Mean  min_seg_size_forward  \\\n",
       "0                         348.0  43679.000000                    -1   \n",
       "1                         349.5  36073.000000                    -1   \n",
       "2                         359.5  34859.666667                    -1   \n",
       "3                         386.0  36989.000000                    -1   \n",
       "4                         383.0      1.000000                    -1   \n",
       "...                         ...           ...                   ...   \n",
       "3136797                   401.0      2.000000                    20   \n",
       "3136798                   401.0      1.000000                    20   \n",
       "3136799                   321.0      2.000000                    20   \n",
       "3136800                   375.0      2.000000                    20   \n",
       "3136801                   375.0      1.000000                    20   \n",
       "\n",
       "         Destination Port  Protocol                   Timestamp      Label  \n",
       "0                    6652        17  2018-12-01 12:36:57.628026  DrDoS_UDP  \n",
       "1                    9712        17  2018-12-01 12:36:57.628076  DrDoS_UDP  \n",
       "2                    4680        17  2018-12-01 12:36:57.628164  DrDoS_UDP  \n",
       "3                    2644        17  2018-12-01 12:36:57.628166  DrDoS_UDP  \n",
       "4                   16901        17  2018-12-01 12:36:57.628217  DrDoS_UDP  \n",
       "...                   ...       ...                         ...        ...  \n",
       "3136797              6479        17  2018-12-01 13:04:45.928050  DrDoS_UDP  \n",
       "3136798             33462        17  2018-12-01 13:04:45.928055  DrDoS_UDP  \n",
       "3136799             22593        17  2018-12-01 13:04:45.928173  DrDoS_UDP  \n",
       "3136800             46618        17  2018-12-01 13:04:45.928225  DrDoS_UDP  \n",
       "3136801             65428        17  2018-12-01 13:04:45.928382  DrDoS_UDP  \n",
       "\n",
       "[3136802 rows x 7 columns]"
      ]
     },
     "metadata": {},
     "output_type": "display_data"
    }
   ],
   "source": [
    "# Lista das colunas a serem selecionadas\n",
    "#colunas_selecionadas = ['Fwd Packet Length Std', 'Packet Length Std', 'Fwd IAT Mean', 'min_seg_size_forward',\n",
    "#                        'Fwd IAT Max', 'Destination Port', 'Fwd Packet Length Max', 'Fwd Packet Length Mean',\n",
    "#                        'Fwd Packet Length Min', 'Protocol', 'Timestamp', 'Label']\n",
    "\n",
    "# Lista das colunas a serem selecionadas\n",
    "colunas_selecionadas = ['Fwd Packet Length Mean', 'Fwd IAT Mean', 'min_seg_size_forward', 'Destination Port', 'Protocol', 'Timestamp', 'Label']\n",
    "\n",
    "# Remova espaços em branco dos nomes das colunas\n",
    "dados_tr.columns = dados_tr.columns.str.strip()\n",
    "\n",
    "# Encontrando o primeiro e o último horário\n",
    "primeiro_horario = dados_tr['Timestamp'].min()\n",
    "ultimo_horario = dados_tr['Timestamp'].max()\n",
    "\n",
    "print(f\"Primeiro horario do ataque: {primeiro_horario}\")\n",
    "print(f\"Ultimo horario do ataque: {ultimo_horario}\")\n",
    "\n",
    "\n",
    "# Verifique se todas as colunas selecionadas estão no DataFrame\n",
    "if set(colunas_selecionadas).issubset(dados_tr.columns):\n",
    "    # Selecionar apenas as colunas desejadas\n",
    "    df_dados = dados_tr[colunas_selecionadas]\n",
    "    # Remover colunas duplicadas\n",
    "    df_dados = df_dados.loc[:,~df_dados.columns.duplicated()]\n",
    "    df_dados = df_dados.dropna()\n",
    "\n",
    "    # Mostrar todas as colunas disponíveis no novo DataFrame\n",
    "    print(\"Colunas Selecionadas:\")\n",
    "    print(df_dados.columns)\n",
    "    print(\"\\n\")\n",
    "    display(df_dados)\n",
    "else:\n",
    "    print(dados_tr.columns)\n",
    "    print(dados_tr)\n",
    "    print(\"Nomes das colunas selecionadas não correspondem às colunas no DataFrame.\")"
   ]
  },
  {
   "cell_type": "code",
   "execution_count": null,
   "id": "5dde6bc6-d8b8-4aff-af89-ca79da67e967",
   "metadata": {
    "tags": []
   },
   "outputs": [],
   "source": []
  },
  {
   "cell_type": "markdown",
   "id": "607cfe9a",
   "metadata": {},
   "source": [
    "# Classifier comparison"
   ]
  },
  {
   "cell_type": "code",
   "execution_count": null,
   "id": "0abfc320",
   "metadata": {
    "tags": []
   },
   "outputs": [],
   "source": [
    "\n"
   ]
  },
  {
   "cell_type": "code",
   "execution_count": 36,
   "id": "be2cde90",
   "metadata": {
    "tags": []
   },
   "outputs": [],
   "source": [
    "# Converta a coluna 'Timestamp' para objetos datetime\n",
    "df_dados['Timestamp'] = pd.to_datetime(df_dados['Timestamp'])\n",
    "\n",
    "# Calcule o número de segundos desde a época Unix\n",
    "df_dados['Timestamp_seconds'] = (df_dados['Timestamp'] - pd.Timestamp(\"1970-01-01\")) // pd.Timedelta(seconds=1)\n",
    "\n",
    "# Preparar os dados\n",
    "X = df_dados.drop('Label', axis=1)\n",
    "X = X.drop('Timestamp', axis=1)\n",
    "y = df_dados['Label']\n",
    "\n",
    "\n",
    "# Dividir os dados em treino e teste\n",
    "X_train, X_test, y_train, y_test = train_test_split(X, y, test_size=0.25, random_state=42)"
   ]
  },
  {
   "cell_type": "code",
   "execution_count": 37,
   "id": "dfb36415-5de0-48da-bca6-1c5e40b56b81",
   "metadata": {
    "tags": []
   },
   "outputs": [
    {
     "name": "stdout",
     "output_type": "stream",
     "text": [
      "Primeiro horario do ataque: 2018-12-01 12:36:57.628026\n",
      "Ultimo horario do ataque: 2018-12-01 13:04:45.928382\n"
     ]
    }
   ],
   "source": [
    "# Encontrando o primeiro e o último horário\n",
    "primeiro_horario = df_dados['Timestamp'].min()\n",
    "ultimo_horario = df_dados['Timestamp'].max()\n",
    "\n",
    "print(f\"Primeiro horario do ataque: {primeiro_horario}\")\n",
    "print(f\"Ultimo horario do ataque: {ultimo_horario}\")"
   ]
  },
  {
   "cell_type": "code",
   "execution_count": 38,
   "id": "61ca83cc-e07c-4d91-b8b2-7eb1bd652680",
   "metadata": {
    "tags": []
   },
   "outputs": [],
   "source": [
    "# Classificador logístico\n",
    "lr = LogisticRegression()\n",
    "\n",
    "# Árvore de decisão\n",
    "dt = DecisionTreeClassifier(max_depth=5)\n",
    "\n",
    "# Cria a floresta aleatória\n",
    "rf = RandomForestClassifier(max_depth=5)"
   ]
  },
  {
   "cell_type": "code",
   "execution_count": 39,
   "id": "ea605a04-94d8-4520-947b-1c0d0ff745ff",
   "metadata": {
    "tags": []
   },
   "outputs": [
    {
     "data": {
      "text/html": [
       "<style>#sk-container-id-2 {color: black;background-color: white;}#sk-container-id-2 pre{padding: 0;}#sk-container-id-2 div.sk-toggleable {background-color: white;}#sk-container-id-2 label.sk-toggleable__label {cursor: pointer;display: block;width: 100%;margin-bottom: 0;padding: 0.3em;box-sizing: border-box;text-align: center;}#sk-container-id-2 label.sk-toggleable__label-arrow:before {content: \"▸\";float: left;margin-right: 0.25em;color: #696969;}#sk-container-id-2 label.sk-toggleable__label-arrow:hover:before {color: black;}#sk-container-id-2 div.sk-estimator:hover label.sk-toggleable__label-arrow:before {color: black;}#sk-container-id-2 div.sk-toggleable__content {max-height: 0;max-width: 0;overflow: hidden;text-align: left;background-color: #f0f8ff;}#sk-container-id-2 div.sk-toggleable__content pre {margin: 0.2em;color: black;border-radius: 0.25em;background-color: #f0f8ff;}#sk-container-id-2 input.sk-toggleable__control:checked~div.sk-toggleable__content {max-height: 200px;max-width: 100%;overflow: auto;}#sk-container-id-2 input.sk-toggleable__control:checked~label.sk-toggleable__label-arrow:before {content: \"▾\";}#sk-container-id-2 div.sk-estimator input.sk-toggleable__control:checked~label.sk-toggleable__label {background-color: #d4ebff;}#sk-container-id-2 div.sk-label input.sk-toggleable__control:checked~label.sk-toggleable__label {background-color: #d4ebff;}#sk-container-id-2 input.sk-hidden--visually {border: 0;clip: rect(1px 1px 1px 1px);clip: rect(1px, 1px, 1px, 1px);height: 1px;margin: -1px;overflow: hidden;padding: 0;position: absolute;width: 1px;}#sk-container-id-2 div.sk-estimator {font-family: monospace;background-color: #f0f8ff;border: 1px dotted black;border-radius: 0.25em;box-sizing: border-box;margin-bottom: 0.5em;}#sk-container-id-2 div.sk-estimator:hover {background-color: #d4ebff;}#sk-container-id-2 div.sk-parallel-item::after {content: \"\";width: 100%;border-bottom: 1px solid gray;flex-grow: 1;}#sk-container-id-2 div.sk-label:hover label.sk-toggleable__label {background-color: #d4ebff;}#sk-container-id-2 div.sk-serial::before {content: \"\";position: absolute;border-left: 1px solid gray;box-sizing: border-box;top: 0;bottom: 0;left: 50%;z-index: 0;}#sk-container-id-2 div.sk-serial {display: flex;flex-direction: column;align-items: center;background-color: white;padding-right: 0.2em;padding-left: 0.2em;position: relative;}#sk-container-id-2 div.sk-item {position: relative;z-index: 1;}#sk-container-id-2 div.sk-parallel {display: flex;align-items: stretch;justify-content: center;background-color: white;position: relative;}#sk-container-id-2 div.sk-item::before, #sk-container-id-2 div.sk-parallel-item::before {content: \"\";position: absolute;border-left: 1px solid gray;box-sizing: border-box;top: 0;bottom: 0;left: 50%;z-index: -1;}#sk-container-id-2 div.sk-parallel-item {display: flex;flex-direction: column;z-index: 1;position: relative;background-color: white;}#sk-container-id-2 div.sk-parallel-item:first-child::after {align-self: flex-end;width: 50%;}#sk-container-id-2 div.sk-parallel-item:last-child::after {align-self: flex-start;width: 50%;}#sk-container-id-2 div.sk-parallel-item:only-child::after {width: 0;}#sk-container-id-2 div.sk-dashed-wrapped {border: 1px dashed gray;margin: 0 0.4em 0.5em 0.4em;box-sizing: border-box;padding-bottom: 0.4em;background-color: white;}#sk-container-id-2 div.sk-label label {font-family: monospace;font-weight: bold;display: inline-block;line-height: 1.2em;}#sk-container-id-2 div.sk-label-container {text-align: center;}#sk-container-id-2 div.sk-container {/* jupyter's `normalize.less` sets `[hidden] { display: none; }` but bootstrap.min.css set `[hidden] { display: none !important; }` so we also need the `!important` here to be able to override the default hidden behavior on the sphinx rendered scikit-learn.org. See: https://github.com/scikit-learn/scikit-learn/issues/21755 */display: inline-block !important;position: relative;}#sk-container-id-2 div.sk-text-repr-fallback {display: none;}</style><div id=\"sk-container-id-2\" class=\"sk-top-container\"><div class=\"sk-text-repr-fallback\"><pre>RandomForestClassifier(max_depth=5)</pre><b>In a Jupyter environment, please rerun this cell to show the HTML representation or trust the notebook. <br />On GitHub, the HTML representation is unable to render, please try loading this page with nbviewer.org.</b></div><div class=\"sk-container\" hidden><div class=\"sk-item\"><div class=\"sk-estimator sk-toggleable\"><input class=\"sk-toggleable__control sk-hidden--visually\" id=\"sk-estimator-id-2\" type=\"checkbox\" checked><label for=\"sk-estimator-id-2\" class=\"sk-toggleable__label sk-toggleable__label-arrow\">RandomForestClassifier</label><div class=\"sk-toggleable__content\"><pre>RandomForestClassifier(max_depth=5)</pre></div></div></div></div></div>"
      ],
      "text/plain": [
       "RandomForestClassifier(max_depth=5)"
      ]
     },
     "execution_count": 39,
     "metadata": {},
     "output_type": "execute_result"
    }
   ],
   "source": [
    "# Treinar o classificador logístico\n",
    "lr.fit(X_train, y_train)\n",
    "\n",
    "# Treinar a árvore de decisão\n",
    "dt.fit(X_train, y_train)\n",
    "\n",
    "# Treinar a floresta aleatória\n",
    "rf.fit(X_train, y_train)"
   ]
  },
  {
   "cell_type": "code",
   "execution_count": 40,
   "id": "379811c6-0275-44ae-adb9-6cd961ed8c70",
   "metadata": {
    "tags": []
   },
   "outputs": [
    {
     "name": "stdout",
     "output_type": "stream",
     "text": [
      "\n",
      "Classificador logístico:\n",
      "              precision    recall  f1-score   support\n",
      "\n",
      "      BENIGN       0.35      0.01      0.02       531\n",
      "   DrDoS_UDP       1.00      1.00      1.00    783670\n",
      "\n",
      "    accuracy                           1.00    784201\n",
      "   macro avg       0.68      0.51      0.51    784201\n",
      "weighted avg       1.00      1.00      1.00    784201\n",
      "\n",
      "[[     6    525]\n",
      " [    11 783659]]\n",
      "\n",
      "Árvore de decisão:\n",
      "              precision    recall  f1-score   support\n",
      "\n",
      "      BENIGN       0.96      0.94      0.95       531\n",
      "   DrDoS_UDP       1.00      1.00      1.00    783670\n",
      "\n",
      "    accuracy                           1.00    784201\n",
      "   macro avg       0.98      0.97      0.97    784201\n",
      "weighted avg       1.00      1.00      1.00    784201\n",
      "\n",
      "[[   498     33]\n",
      " [    22 783648]]\n",
      "\n",
      "Floresta aleatória:\n",
      "              precision    recall  f1-score   support\n",
      "\n",
      "      BENIGN       0.99      0.97      0.98       531\n",
      "   DrDoS_UDP       1.00      1.00      1.00    783670\n",
      "\n",
      "    accuracy                           1.00    784201\n",
      "   macro avg       0.99      0.98      0.99    784201\n",
      "weighted avg       1.00      1.00      1.00    784201\n",
      "\n",
      "[[   513     18]\n",
      " [     6 783664]]\n"
     ]
    }
   ],
   "source": [
    "# Fazer previsões com o classificador logístico\n",
    "y_pred_lr = lr.predict(X_test)\n",
    "\n",
    "# Fazer previsões com a árvore de decisão\n",
    "y_pred_dt = dt.predict(X_test)\n",
    "\n",
    "# Fazer previsões com a floresta aleatória\n",
    "y_pred_rf = rf.predict(X_test)\n",
    "\n",
    "# Avaliar os classificadores\n",
    "print('')\n",
    "print('Classificador logístico:')\n",
    "print(classification_report(y_test, y_pred_lr))\n",
    "print(confusion_matrix(y_test, y_pred_lr))\n",
    "\n",
    "print('')\n",
    "print('Árvore de decisão:')\n",
    "print(classification_report(y_test, y_pred_dt))\n",
    "print(confusion_matrix(y_test, y_pred_dt))\n",
    "\n",
    "print('')\n",
    "print('Floresta aleatória:')\n",
    "print(classification_report(y_test, y_pred_rf))\n",
    "print(confusion_matrix(y_test, y_pred_rf))"
   ]
  },
  {
   "cell_type": "code",
   "execution_count": 41,
   "id": "fd883f05-b828-4617-94e4-d5909af319e2",
   "metadata": {
    "tags": []
   },
   "outputs": [],
   "source": [
    "\n",
    "# Métricas para o classificador logístico\n",
    "report_lr = classification_report(y_test, y_pred_lr, output_dict=True)\n",
    "precision_lr_dr = report_lr['DrDoS_UDP']['precision']\n",
    "recall_lr_dr = report_lr['DrDoS_UDP']['recall']\n",
    "f1_score_lr_dr = report_lr['DrDoS_UDP']['f1-score']\n",
    "precision_lr_benign = report_lr['BENIGN']['precision']\n",
    "recall_lr_benign = report_lr['BENIGN']['recall']\n",
    "f1_score_lr_benign = report_lr['BENIGN']['f1-score']\n",
    "\n",
    "# Métricas para a árvore de decisão\n",
    "report_dt = classification_report(y_test, y_pred_dt, output_dict=True)\n",
    "precision_dt_dr = report_dt['DrDoS_UDP']['precision']\n",
    "recall_dt_dr = report_dt['DrDoS_UDP']['recall']\n",
    "f1_score_dt_dr = report_dt['DrDoS_UDP']['f1-score']\n",
    "precision_dt_benign = report_dt['BENIGN']['precision']\n",
    "recall_dt_benign = report_dt['BENIGN']['recall']\n",
    "f1_score_dt_benign = report_dt['BENIGN']['f1-score']\n",
    "\n",
    "# Métricas para a floresta aleatória\n",
    "report_rf = classification_report(y_test, y_pred_rf, output_dict=True)\n",
    "precision_rf_dr = report_rf['DrDoS_UDP']['precision']\n",
    "recall_rf_dr = report_rf['DrDoS_UDP']['recall']\n",
    "f1_score_rf_dr = report_rf['DrDoS_UDP']['f1-score']\n",
    "precision_rf_benign = report_rf['BENIGN']['precision']\n",
    "recall_rf_benign = report_rf['BENIGN']['recall']\n",
    "f1_score_rf_benign = report_rf['BENIGN']['f1-score']\n",
    "\n",
    "classificadores = ['Logístico', 'Árvore de Decisão', 'Floresta Aleatória']\n",
    "precisao_dr = [precision_lr_dr, precision_dt_dr, precision_rf_dr]\n",
    "recall_dr = [recall_lr_dr, recall_dt_dr, recall_rf_dr]\n",
    "f1_dr = [f1_score_lr_dr, f1_score_dt_dr, f1_score_rf_dr]\n",
    "precisao_benign = [precision_lr_benign, precision_dt_benign, precision_rf_benign]\n",
    "recall_benign = [recall_lr_benign, recall_dt_benign, recall_rf_benign]\n",
    "f1_benign = [f1_score_lr_benign, f1_score_dt_benign, f1_score_rf_benign]"
   ]
  },
  {
   "cell_type": "code",
   "execution_count": 42,
   "id": "5de036d9-0aca-4ae4-9778-54ef98a953ea",
   "metadata": {
    "tags": []
   },
   "outputs": [
    {
     "data": {
      "image/png": "[encoded data removed]",
      "text/plain": [
       "<Figure size 1500x1000 with 12 Axes>"
      ]
     },
     "metadata": {},
     "output_type": "display_data"
    }
   ],
   "source": [
    "# Cria um dataframe para cada métrica\n",
    "df_precisao_dr = pd.DataFrame({'Classificador': classificadores, 'Precisão DrDoS_UDP': precisao_dr})\n",
    "df_recall_dr = pd.DataFrame({'Classificador': classificadores, 'Recall DrDoS_UDP': recall_dr})\n",
    "df_f1_dr = pd.DataFrame({'Classificador': classificadores, 'F1-score DrDoS_UDP': f1_dr})\n",
    "\n",
    "df_precisao_benign = pd.DataFrame({'Classificador': classificadores, 'Precisão BENIGN': precisao_benign})\n",
    "df_recall_benign = pd.DataFrame({'Classificador': classificadores, 'Recall BENIGN': recall_benign})\n",
    "df_f1_benign = pd.DataFrame({'Classificador': classificadores, 'F1-score BENIGN': f1_benign})\n",
    "\n",
    "# Cria um mapa de calor para cada métrica\n",
    "fig = plt.figure(figsize=(15, 10))\n",
    "\n",
    "plt.subplot(231)\n",
    "sns.heatmap(df_precisao_dr.set_index('Classificador'), annot=True, cmap='viridis')\n",
    "plt.title('Precisão DrDoS_UDP')\n",
    "\n",
    "plt.subplot(232)\n",
    "sns.heatmap(df_recall_dr.set_index('Classificador'), annot=True, cmap='viridis')\n",
    "plt.title('Recall DrDoS_UDP')\n",
    "\n",
    "plt.subplot(233)\n",
    "sns.heatmap(df_f1_dr.set_index('Classificador'), annot=True, cmap='viridis')\n",
    "plt.title('F1-score DrDoS_UDP')\n",
    "\n",
    "plt.subplot(234)\n",
    "sns.heatmap(df_precisao_benign.set_index('Classificador'), annot=True, cmap='viridis')\n",
    "plt.title('Precisão BENIGN')\n",
    "\n",
    "plt.subplot(235)\n",
    "sns.heatmap(df_recall_benign.set_index('Classificador'), annot=True, cmap='viridis')\n",
    "plt.title('Recall BENIGN')\n",
    "\n",
    "plt.subplot(236)\n",
    "sns.heatmap(df_f1_benign.set_index('Classificador'), annot=True, cmap='viridis')\n",
    "plt.title('F1-score BENIGN')\n",
    "\n",
    "plt.tight_layout()\n",
    "\n",
    "# Adiciona um título ao gráfico\n",
    "fig.suptitle('Métricas de Classificação para Cada Classificador', fontsize=16, y=1.05)\n",
    "plt.savefig('img/metricas_de_classificacao_para_classificador_comparaty_plot.png', dpi=300, bbox_inches='tight')  # Salvar o gráfico em alta resolução (dpi=300)\n",
    "plt.show()"
   ]
  },
  {
   "cell_type": "code",
   "execution_count": 43,
   "id": "878958f7-530c-4df2-8bdd-41e90dd2ba2b",
   "metadata": {
    "tags": []
   },
   "outputs": [
    {
     "name": "stdout",
     "output_type": "stream",
     "text": [
      "100\n",
      "5\n",
      "2 1\n"
     ]
    }
   ],
   "source": [
    "# Imprimir o número de árvores\n",
    "print(rf.n_estimators)\n",
    "\n",
    "# Imprimir a profundidade máxima de cada árvore\n",
    "print(rf.max_depth)\n",
    "\n",
    "# Imprimir os valores de `min_samples_split` e `min_samples_leaf`\n",
    "print(rf.min_samples_split, rf.min_samples_leaf)"
   ]
  },
  {
   "cell_type": "markdown",
   "id": "d670303f-4845-4d63-b9dc-391510ab199d",
   "metadata": {},
   "source": [
    "# Unica arvore"
   ]
  },
  {
   "cell_type": "code",
   "execution_count": 44,
   "id": "fe230736-374e-4444-96e6-f1d5502104db",
   "metadata": {
    "tags": []
   },
   "outputs": [
    {
     "data": {
      "text/plain": [
       "'img\\\\tree.pdf'"
      ]
     },
     "execution_count": 44,
     "metadata": {},
     "output_type": "execute_result"
    }
   ],
   "source": [
    "# Obtém o número de recursos no modelo de árvore de decisão\n",
    "n_features_in = rf.estimators_[0].n_features_in_\n",
    "\n",
    "# Usa o atributo 'classes_' para obter os rótulos das classes\n",
    "class_names = rf.classes_\n",
    "\n",
    "dot_data = export_graphviz(rf.estimators_[0], out_file='img/tree.dot', feature_names=df_dados.columns[:n_features_in], class_names=class_names, filled=True, rounded=True, special_characters=True)\n",
    "\n",
    "# Abre o arquivo .dot e lê o conteúdo\n",
    "with open('img/tree.dot', 'r') as f:\n",
    "    dot_text = f.read()\n",
    "\n",
    "# Substitui os termos em inglês por suas traduções em português\n",
    "dot_text = re.sub(\"gini\", \"Índice Gini\", dot_text)\n",
    "dot_text = re.sub(\"samples\", \"Amostras\", dot_text)\n",
    "dot_text = re.sub(\"value\", \"Valor\", dot_text)\n",
    "dot_text = re.sub(\"class\", \"Classe\", dot_text)\n",
    "\n",
    "# Escreve o texto modificado de volta para o arquivo .dot\n",
    "with open('img/tree.dot', 'w') as f:\n",
    "    f.write(dot_text)\n",
    "\n",
    "# Visualiza o gráfico\n",
    "graph = graphviz.Source(dot_text)\n",
    "graph.render('img/tree', format='pdf', view=True)"
   ]
  },
  {
   "cell_type": "markdown",
   "id": "97613725-9795-4358-8693-dfc4002d1a49",
   "metadata": {},
   "source": [
    "# Visualizando todas as arvores."
   ]
  },
  {
   "cell_type": "code",
   "execution_count": 45,
   "id": "b4d74a56-cb65-4136-bd7d-79f2d2e85078",
   "metadata": {
    "tags": []
   },
   "outputs": [
    {
     "name": "stdout",
     "output_type": "stream",
     "text": [
      "Arvores criadas.\n"
     ]
    }
   ],
   "source": [
    "# Crie um diretório para armazenar os arquivos .dot\n",
    "if not os.path.exists('trees'):\n",
    "    os.makedirs('trees')\n",
    "\n",
    "# Exporta cada árvore como um arquivo .dot\n",
    "for i, estimator in enumerate(rf.estimators_):\n",
    "    # Obtém o número de recursos no modelo de árvore de decisão\n",
    "    n_features_in = estimator.n_features_in_\n",
    "\n",
    "    # Usa o atributo 'classes_' para obter os rótulos das classes\n",
    "    class_names = rf.classes_\n",
    "\n",
    "    dot_data = export_graphviz(estimator, out_file=f'trees/tree_{i}.dot', \n",
    "                               feature_names=df_dados.columns[:n_features_in],\n",
    "                               class_names=class_names,\n",
    "                               filled=True, rounded=True, special_characters=True)\n",
    "\n",
    "    # Abre o arquivo .dot e lê o conteúdo\n",
    "    with open(f'trees/tree_{i}.dot', 'r') as f:\n",
    "        dot_text = f.read()\n",
    "\n",
    "    # Substitui os termos em inglês por suas traduções em português\n",
    "    dot_text = re.sub(\"gini\", \"Índice Gini\", dot_text)\n",
    "    dot_text = re.sub(\"samples\", \"Amostras\", dot_text)\n",
    "    dot_text = re.sub(\"value\", \"Valor\", dot_text)\n",
    "    dot_text = re.sub(\"class\", \"Classe\", dot_text)\n",
    "\n",
    "    # Escreve o texto modificado de volta para o arquivo .dot\n",
    "    with open(f'trees/tree_{i}.dot', 'w') as f:\n",
    "        f.write(dot_text)\n",
    "\n",
    "    # Visualiza o gráfico\n",
    "    graph = graphviz.Source(dot_text)\n",
    "    graph.render(f'trees/tree_{i}', format='pdf', view=False)\n",
    "\n",
    "# Juntar todos os PDFs em um único arquivo\n",
    "merger = PdfMerger()\n",
    "\n",
    "# Adicionar cada PDF das árvores ao objeto de mesclagem\n",
    "for i in range(len(rf.estimators_)):\n",
    "    merger.append(f'trees/tree_{i}.pdf')\n",
    "\n",
    "# Salvar o arquivo final com todas as árvores\n",
    "with open('trees/all_trees.pdf', 'wb') as output:\n",
    "    merger.write(output)\n",
    "    \n",
    "print(\"Arvores criadas.\")"
   ]
  },
  {
   "cell_type": "code",
   "execution_count": 46,
   "id": "d0b59fda-c9aa-49f0-9776-7c26541ac3bd",
   "metadata": {
    "tags": []
   },
   "outputs": [
    {
     "name": "stdout",
     "output_type": "stream",
     "text": [
      "\n",
      "Classificador logístico:\n",
      "0.999316501764216\n",
      "\n",
      "Árvore de decisão:\n",
      "0.9999298649198356\n",
      "\n",
      "Floresta aleatória:\n",
      "0.9999693956013828\n"
     ]
    }
   ],
   "source": [
    "# Calcula a taxa de acerto para cada algoritmo\n",
    "lr_accuracy = accuracy_score(y_test, y_pred_lr)\n",
    "dt_accuracy = accuracy_score(y_test, y_pred_dt)\n",
    "rf_accuracy = accuracy_score(y_test, y_pred_rf)\n",
    "\n",
    "print('')\n",
    "print('Classificador logístico:')\n",
    "print(lr_accuracy)\n",
    "\n",
    "print('')\n",
    "print('Árvore de decisão:')\n",
    "print(dt_accuracy)\n",
    "\n",
    "print('')\n",
    "print('Floresta aleatória:')\n",
    "print(rf_accuracy)"
   ]
  },
  {
   "cell_type": "code",
   "execution_count": 47,
   "id": "fbb689f8-65c6-4e63-aa5b-7de2e1cbccd0",
   "metadata": {
    "tags": []
   },
   "outputs": [
    {
     "data": {
      "image/png": "[encoded data removed]",
      "text/plain": [
       "<Figure size 640x480 with 1 Axes>"
      ]
     },
     "metadata": {},
     "output_type": "display_data"
    }
   ],
   "source": [
    "# Cria um gráfico de linhas\n",
    "plt.plot([\"Logístico\", \"Árvore de decisão\", \"Floresta aleatória\"], [lr_accuracy, dt_accuracy, rf_accuracy])\n",
    "plt.xlabel(\"Algoritmo\")\n",
    "plt.ylabel(\"Taxa de acerto\")\n",
    "plt.title(\"Taxa de acerto dos algoritmos\")\n",
    "plt.savefig('img/accuracy_comparaty_plot.png', dpi=300, bbox_inches='tight')  # Salvar o gráfico em alta resolução (dpi=300)\n",
    "plt.show()"
   ]
  },
  {
   "cell_type": "markdown",
   "id": "93b68ddd-3224-4a1e-b044-80bb15b542b5",
   "metadata": {},
   "source": [
    "# Regressão linear"
   ]
  },
  {
   "cell_type": "code",
   "execution_count": 48,
   "id": "371de9c5-61e9-4d52-bbeb-01d5bec5ba16",
   "metadata": {
    "tags": []
   },
   "outputs": [],
   "source": [
    "# Lista das colunas a serem selecionadas\n",
    "colunas_selecionadas = ['Fwd Packet Length Mean', 'Fwd IAT Mean', 'min_seg_size_forward', 'Destination Port', 'Protocol', 'Label']\n",
    "\n",
    "# Selecionar apenas as colunas desejadas\n",
    "df_dados3 = dados_tr[colunas_selecionadas]\n",
    "\n",
    "# Remover colunas duplicadas\n",
    "df_dados3 = df_dados3.loc[:,~df_dados3.columns.duplicated()]\n",
    "df_dados3 = df_dados3.dropna()"
   ]
  },
  {
   "cell_type": "code",
   "execution_count": 49,
   "id": "6125a657-32bb-46cd-a2af-3d2b50e33c67",
   "metadata": {
    "tags": []
   },
   "outputs": [],
   "source": [
    "# Criar uma lista com todas as combinações possíveis de duas colunas, excluindo as repetidas\n",
    "colunas = df_dados3.columns[:-1] # excluir a coluna Label\n",
    "combinacoes = list(combinations(colunas, 2))\n",
    "\n",
    "# Criar uma lista vazia para armazenar os resultados\n",
    "resultados = []\n",
    "\n",
    "# Criar um loop para iterar sobre as combinações\n",
    "for x_col, y_col in combinacoes:\n",
    "    # Separar as variáveis x e y do conjunto de dados\n",
    "    x = df_dados3[x_col].values.reshape(-1, 1)\n",
    "    y = df_dados3[y_col].values.reshape(-1, 1)\n",
    "\n",
    "    # Criar e treinar um modelo de regressão linear\n",
    "    model = LinearRegression()\n",
    "    model.fit(x, y)\n",
    "\n",
    "    # Fazer previsões com o modelo treinado\n",
    "    y_pred = model.predict(x)\n",
    "\n",
    "    # Calcular a acurácia do modelo\n",
    "    r2 = r2_score(y, y_pred)\n",
    "\n",
    "    # Armazenar o nome das colunas, o modelo, e a acurácia em uma lista\n",
    "    resultados.append((x_col, y_col, model, r2))"
   ]
  },
  {
   "cell_type": "code",
   "execution_count": 50,
   "id": "283e3e00-f541-47f9-af3c-fb022af763e4",
   "metadata": {
    "tags": []
   },
   "outputs": [],
   "source": [
    "# Criar uma função para encontrar a maior acurácia entre todos os modelos\n",
    "def melhor_regressao(resultados):\n",
    "    # Inicializar a maior acurácia com um valor baixo\n",
    "    maior_r2 = -1\n",
    "    # Inicializar as variáveis para armazenar o melhor resultado\n",
    "    melhor_x = None\n",
    "    melhor_y = None\n",
    "    melhor_modelo = None\n",
    "    # Criar um loop para iterar sobre os resultados\n",
    "    for x_col, y_col, model, r2 in resultados:\n",
    "        # Se a acurácia atual for maior que a maior acurácia\n",
    "        if r2 > maior_r2:\n",
    "            # Atualizar a maior acurácia com a acurácia atual\n",
    "            maior_r2 = r2\n",
    "            # Atualizar as variáveis com o melhor resultado\n",
    "            melhor_x = x_col\n",
    "            melhor_y = y_col\n",
    "            melhor_modelo = model\n",
    "    # Retornar o melhor resultado\n",
    "    return melhor_x, melhor_y, melhor_modelo, maior_r2\n"
   ]
  },
  {
   "cell_type": "code",
   "execution_count": 51,
   "id": "6bca650f-b269-4659-8607-bf1db27d8c92",
   "metadata": {
    "tags": []
   },
   "outputs": [],
   "source": [
    "# Mostrar o resultado da função\n",
    "melhor_x, melhor_y, melhor_modelo, maior_r2 = melhor_regressao(resultados)"
   ]
  },
  {
   "cell_type": "code",
   "execution_count": 52,
   "id": "1321245f-1496-4a10-b79d-b1f3dfc86e7a",
   "metadata": {
    "tags": []
   },
   "outputs": [
    {
     "name": "stdout",
     "output_type": "stream",
     "text": [
      "A melhor regressão linear é entre as colunas Fwd Packet Length Mean e Protocol\n",
      "O modelo é: LinearRegression()\n",
      "A acurácia é: 0.03515401946520602\n"
     ]
    }
   ],
   "source": [
    "print(\"A melhor regressão linear é entre as colunas\", melhor_x, \"e\", melhor_y)\n",
    "print(\"O modelo é:\", melhor_modelo)\n",
    "print(\"A acurácia é:\", maior_r2)"
   ]
  },
  {
   "cell_type": "code",
   "execution_count": 53,
   "id": "8d30c9e7-6b7e-42d1-bcb2-0b110c48c44d",
   "metadata": {
    "tags": []
   },
   "outputs": [
    {
     "data": {
      "image/png": "[encoded data removed]",
      "text/plain": [
       "<Figure size 640x480 with 1 Axes>"
      ]
     },
     "metadata": {},
     "output_type": "display_data"
    }
   ],
   "source": [
    "# Dados originais\n",
    "x_col_data = df_dados3[melhor_x].values\n",
    "y_col_data = df_dados3[melhor_y].values\n",
    "\n",
    "# Linha de regressão\n",
    "x = np.linspace(min(x_col_data), max(x_col_data), 100)\n",
    "y_pred = melhor_modelo.predict(x.reshape(-1, 1))\n",
    "\n",
    "plt.scatter(x_col_data, y_col_data, label='Dados Originais')\n",
    "plt.plot(x, y_pred, color='red', label='Regressão Linear')\n",
    "plt.xlabel(melhor_x)\n",
    "plt.ylabel(melhor_y)\n",
    "plt.legend()\n",
    "plt.title(\"Regressão Linear entre {} e {}\".format(melhor_x, melhor_y))\n",
    "plt.savefig(\"img/regressao_Linear_entre_colunas.png\".format(melhor_x, melhor_y))\n",
    "plt.show()"
   ]
  },
  {
   "cell_type": "code",
   "execution_count": null,
   "id": "e6a4a489-17fb-4016-a135-9923bbfe43ab",
   "metadata": {},
   "outputs": [],
   "source": []
  },
  {
   "cell_type": "markdown",
   "id": "b7a466d9-a70e-4b1c-8db1-ab537075f10f",
   "metadata": {
    "tags": []
   },
   "source": [
    "# Verificar Overffiting"
   ]
  },
  {
   "cell_type": "code",
   "execution_count": 54,
   "id": "d4723b1f-4563-48ef-8316-7c88ec0f6752",
   "metadata": {
    "tags": []
   },
   "outputs": [],
   "source": [
    "# Dividir os dados em treino e teste\n",
    "X_train3, X_test3, y_train3, y_test3 = train_test_split(X, y, test_size=0.25, random_state=42)"
   ]
  },
  {
   "cell_type": "code",
   "execution_count": 55,
   "id": "4c6e6e1e-12f7-4eee-9e7b-3ab03b0a3983",
   "metadata": {
    "tags": []
   },
   "outputs": [],
   "source": [
    "# Definir diferentes números de nós terminais\n",
    "num_nos_terminais = [2, 3, 4, 5, 6, 7, 8, 9, 10, 15, 20, 25, 30, 35, 40]\n",
    "\n",
    "# Listas para armazenar os índices Gini de treinamento e teste\n",
    "train_ginis = []\n",
    "test_ginis = []"
   ]
  },
  {
   "cell_type": "code",
   "execution_count": 56,
   "id": "49a607e9-7313-496a-89d0-591a27430d18",
   "metadata": {
    "tags": []
   },
   "outputs": [
    {
     "name": "stderr",
     "output_type": "stream",
     "text": [
      "C:\\Users\\davim\\AppData\\Local\\Temp\\ipykernel_32112\\1415427748.py:4: DataConversionWarning: A column-vector y was passed when a 1d array was expected. Please change the shape of y to (n_samples,), for example using ravel().\n",
      "  rf_model.fit(X_train3, y_train3)\n",
      "C:\\Users\\davim\\AppData\\Local\\Temp\\ipykernel_32112\\1415427748.py:4: DataConversionWarning: A column-vector y was passed when a 1d array was expected. Please change the shape of y to (n_samples,), for example using ravel().\n",
      "  rf_model.fit(X_train3, y_train3)\n",
      "C:\\Users\\davim\\AppData\\Local\\Temp\\ipykernel_32112\\1415427748.py:4: DataConversionWarning: A column-vector y was passed when a 1d array was expected. Please change the shape of y to (n_samples,), for example using ravel().\n",
      "  rf_model.fit(X_train3, y_train3)\n",
      "C:\\Users\\davim\\AppData\\Local\\Temp\\ipykernel_32112\\1415427748.py:4: DataConversionWarning: A column-vector y was passed when a 1d array was expected. Please change the shape of y to (n_samples,), for example using ravel().\n",
      "  rf_model.fit(X_train3, y_train3)\n",
      "C:\\Users\\davim\\AppData\\Local\\Temp\\ipykernel_32112\\1415427748.py:4: DataConversionWarning: A column-vector y was passed when a 1d array was expected. Please change the shape of y to (n_samples,), for example using ravel().\n",
      "  rf_model.fit(X_train3, y_train3)\n",
      "C:\\Users\\davim\\AppData\\Local\\Temp\\ipykernel_32112\\1415427748.py:4: DataConversionWarning: A column-vector y was passed when a 1d array was expected. Please change the shape of y to (n_samples,), for example using ravel().\n",
      "  rf_model.fit(X_train3, y_train3)\n",
      "C:\\Users\\davim\\AppData\\Local\\Temp\\ipykernel_32112\\1415427748.py:4: DataConversionWarning: A column-vector y was passed when a 1d array was expected. Please change the shape of y to (n_samples,), for example using ravel().\n",
      "  rf_model.fit(X_train3, y_train3)\n",
      "C:\\Users\\davim\\AppData\\Local\\Temp\\ipykernel_32112\\1415427748.py:4: DataConversionWarning: A column-vector y was passed when a 1d array was expected. Please change the shape of y to (n_samples,), for example using ravel().\n",
      "  rf_model.fit(X_train3, y_train3)\n",
      "C:\\Users\\davim\\AppData\\Local\\Temp\\ipykernel_32112\\1415427748.py:4: DataConversionWarning: A column-vector y was passed when a 1d array was expected. Please change the shape of y to (n_samples,), for example using ravel().\n",
      "  rf_model.fit(X_train3, y_train3)\n",
      "C:\\Users\\davim\\AppData\\Local\\Temp\\ipykernel_32112\\1415427748.py:4: DataConversionWarning: A column-vector y was passed when a 1d array was expected. Please change the shape of y to (n_samples,), for example using ravel().\n",
      "  rf_model.fit(X_train3, y_train3)\n",
      "C:\\Users\\davim\\AppData\\Local\\Temp\\ipykernel_32112\\1415427748.py:4: DataConversionWarning: A column-vector y was passed when a 1d array was expected. Please change the shape of y to (n_samples,), for example using ravel().\n",
      "  rf_model.fit(X_train3, y_train3)\n",
      "C:\\Users\\davim\\AppData\\Local\\Temp\\ipykernel_32112\\1415427748.py:4: DataConversionWarning: A column-vector y was passed when a 1d array was expected. Please change the shape of y to (n_samples,), for example using ravel().\n",
      "  rf_model.fit(X_train3, y_train3)\n",
      "C:\\Users\\davim\\AppData\\Local\\Temp\\ipykernel_32112\\1415427748.py:4: DataConversionWarning: A column-vector y was passed when a 1d array was expected. Please change the shape of y to (n_samples,), for example using ravel().\n",
      "  rf_model.fit(X_train3, y_train3)\n",
      "C:\\Users\\davim\\AppData\\Local\\Temp\\ipykernel_32112\\1415427748.py:4: DataConversionWarning: A column-vector y was passed when a 1d array was expected. Please change the shape of y to (n_samples,), for example using ravel().\n",
      "  rf_model.fit(X_train3, y_train3)\n",
      "C:\\Users\\davim\\AppData\\Local\\Temp\\ipykernel_32112\\1415427748.py:4: DataConversionWarning: A column-vector y was passed when a 1d array was expected. Please change the shape of y to (n_samples,), for example using ravel().\n",
      "  rf_model.fit(X_train3, y_train3)\n"
     ]
    }
   ],
   "source": [
    "for num in num_nos_terminais:\n",
    "    # Criar o modelo Random Forest com o número de árvores (nós terminais)\n",
    "    rf_model = RandomForestClassifier(n_estimators=num, random_state=42)\n",
    "    rf_model.fit(X_train3, y_train3)\n",
    "\n",
    "    # Calcular índice Gini de treinamento\n",
    "    train_gini = 1 - rf_model.score(X_train3, y_train3)\n",
    "    train_ginis.append(train_gini)\n",
    "\n",
    "    # Calcular índice Gini de teste\n",
    "    test_gini = 1 - rf_model.score(X_test3, y_test3)\n",
    "    test_ginis.append(test_gini)"
   ]
  },
  {
   "cell_type": "code",
   "execution_count": null,
   "id": "0152850e-e5f4-4a93-a01c-ae4f3a54962b",
   "metadata": {
    "tags": []
   },
   "outputs": [],
   "source": []
  },
  {
   "cell_type": "code",
   "execution_count": 58,
   "id": "dae15d54-49b4-4b66-a8a8-157f05511986",
   "metadata": {
    "tags": []
   },
   "outputs": [
    {
     "data": {
      "image/png": "[encoded data removed]",
      "text/plain": [
       "<Figure size 1000x600 with 1 Axes>"
      ]
     },
     "metadata": {},
     "output_type": "display_data"
    }
   ],
   "source": [
    "# Plotar os índices Gini de treinamento e teste versus o número de árvores\n",
    "plt.figure(figsize=(10, 6))\n",
    "\n",
    "# Linha representando o índice Gini de teste\n",
    "plt.plot(num_nos_terminais, test_ginis, marker='o', color='blue', label='Score de teste')\n",
    "\n",
    "# Linha representando o índice Gini de treinamento (resubstituição)\n",
    "plt.plot(num_nos_terminais, train_ginis, marker='o', color='green', label='Score de treinamento (resubstituição)')\n",
    "\n",
    "plt.xlabel('Número de Árvores (Nós Terminais no Random Forest)')\n",
    "plt.ylabel('Score')\n",
    "plt.title('Score vs Número de Árvores no Random Forest (Máximo de 40 árvores)')\n",
    "plt.legend()\n",
    "plt.grid(True)\n",
    "# Salvar o gráfico como uma imagem (por exemplo, em formato PNG)\n",
    "plt.savefig('img/grafico_indice_Score_num_nos.png')\n",
    "plt.show()"
   ]
  },
  {
   "cell_type": "code",
   "execution_count": null,
   "id": "28d8f7e0-4161-46de-be1a-bd9f2eb0ee05",
   "metadata": {
    "tags": []
   },
   "outputs": [],
   "source": []
  },
  {
   "cell_type": "code",
   "execution_count": null,
   "id": "28f8339f-650d-4bb4-b81e-d4d700f0807c",
   "metadata": {},
   "outputs": [],
   "source": []
  }
 ],
 "metadata": {
  "kernelspec": {
   "display_name": "Python 3 (ipykernel)",
   "language": "python",
   "name": "python3"
  },
  "language_info": {
   "codemirror_mode": {
    "name": "ipython",
    "version": 3
   },
   "file_extension": ".py",
   "mimetype": "text/x-python",
   "name": "python",
   "nbconvert_exporter": "python",
   "pygments_lexer": "ipython3",
   "version": "3.11.3"
  }
 },
 "nbformat": 4,
 "nbformat_minor": 5
}
